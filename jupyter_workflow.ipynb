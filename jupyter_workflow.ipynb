{
 "cells": [
  {
   "cell_type": "code",
   "execution_count": 1,
   "metadata": {},
   "outputs": [],
   "source": [
    "## Reproducible Data Analysis in Jupyter\n",
    "## https://www.youtube.com/watch?v=_ZEWDGpM-vM&list=PLYCpMb24GpOC704uO9svUrihl-HY1tTJJ\n",
    "## https://data.seattle.gov/Transportation/Fremont-Bridge-Bicycle-Counter/65db-xm6k"
   ]
  },
  {
   "cell_type": "code",
   "execution_count": 2,
   "metadata": {},
   "outputs": [],
   "source": [
    "import os \n",
    "import pandas as pd \n",
    "from urllib.request import urlretrieve\n",
    "\n",
    "URL = 'https://data.seattle.gov/api/views/65db-xm6k/rows.csv?accessType=DOWNLOAD'\n",
    "\n",
    "def get_fremont_bicycle_data(filename, url, force_download=False):\n",
    "    ##mm force_download=False, os.path.exists\n",
    "    if force_download or not os.path.exists(filename):\n",
    "        urlretrieve(url, filename)\n",
    "    data = pd.read_csv('fremont_bicycle.csv', index_col='Date', parse_dates=True)\n",
    "    ## index_col, parse_dates(Timestamp)\n",
    "    data.columns = ['Total', 'East', 'West']\n",
    "    ## the columns changed\n",
    "    return data \n"
   ]
  },
  {
   "cell_type": "code",
   "execution_count": null,
   "metadata": {},
   "outputs": [],
   "source": [
    "data = get_fremont_bicycle_data(filename='fremont_bicycle.csv', url=URL)"
   ]
  },
  {
   "cell_type": "code",
   "execution_count": null,
   "metadata": {},
   "outputs": [],
   "source": [
    "data.head()"
   ]
  },
  {
   "cell_type": "code",
   "execution_count": null,
   "metadata": {},
   "outputs": [],
   "source": [
    "import matplotlib.pyplot as plt\n",
    "plt.style.use('seaborn')\n",
    "_=data.resample('w').sum().plot()\n",
    "## data.plot()\n",
    "## data.resample: time series"
   ]
  },
  {
   "cell_type": "code",
   "execution_count": null,
   "metadata": {},
   "outputs": [],
   "source": [
    "ax = data.resample('d').sum().rolling(365).sum().plot()\n",
    "ax.set_ylim(0, None)\n",
    "## rolling window caculation: previous 365\n",
    "## None: current maximum "
   ]
  },
  {
   "cell_type": "code",
   "execution_count": null,
   "metadata": {},
   "outputs": [],
   "source": [
    "_=data.groupby(data.index.time).mean().plot()"
   ]
  },
  {
   "cell_type": "code",
   "execution_count": null,
   "metadata": {},
   "outputs": [],
   "source": [
    "pivoted = data.pivot_table('Total', index = data.index.time, columns = data.index.date)\n",
    "pivoted.iloc[:5, :5]\n",
    "## data.pivot_table: column to aggregate, optional "
   ]
  },
  {
   "cell_type": "code",
   "execution_count": null,
   "metadata": {},
   "outputs": [],
   "source": [
    "_=pivoted.plot(alpha=0.01, legend = False)"
   ]
  },
  {
   "cell_type": "code",
   "execution_count": null,
   "metadata": {},
   "outputs": [],
   "source": [
    "## github: create a new repository \n",
    "## github: code HTTP\n",
    "## git clone https://github.com/Violet-Fan/jupyter_workflow.git\n",
    "## mv jupyter_workflow.ipynb jupyter_workflow\n",
    "## cd ../\n",
    "## cd jupyter_workflow \n",
    "## git status \n",
    "## git add jupyter_workflow.ipynb\n",
    "## git commit -m \n",
    "## git push origin master "
   ]
  },
  {
   "cell_type": "code",
   "execution_count": null,
   "metadata": {},
   "outputs": [],
   "source": [
    "## data: if the data is too big \n",
    "## files starting with . are considered\n",
    "## mac: hidden file: command + shift + .\n",
    "## open .gitignore\n",
    "## # data  fremont_bicycle.csv\n",
    "## git add .gitignore\n",
    "## git commit -m 'add data to gitignore'\n",
    "## git push origin master (updated)"
   ]
  }
 ],
 "metadata": {
  "kernelspec": {
   "display_name": "Python 3",
   "language": "python",
   "name": "python3"
  },
  "language_info": {
   "codemirror_mode": {
    "name": "ipython",
    "version": 3
   },
   "file_extension": ".py",
   "mimetype": "text/x-python",
   "name": "python",
   "nbconvert_exporter": "python",
   "pygments_lexer": "ipython3",
   "version": "3.8.3"
  }
 },
 "nbformat": 4,
 "nbformat_minor": 4
}
